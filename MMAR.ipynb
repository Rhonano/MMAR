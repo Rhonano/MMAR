{
 "metadata": {
  "language_info": {
   "codemirror_mode": {
    "name": "ipython",
    "version": 3
   },
   "file_extension": ".py",
   "mimetype": "text/x-python",
   "name": "python",
   "nbconvert_exporter": "python",
   "pygments_lexer": "ipython3",
   "version": "3.7.2-final"
  },
  "orig_nbformat": 2,
  "kernelspec": {
   "name": "python3",
   "display_name": "Python 3"
  }
 },
 "nbformat": 4,
 "nbformat_minor": 2,
 "cells": [
  {
   "cell_type": "code",
   "execution_count": 1,
   "metadata": {},
   "outputs": [],
   "source": [
    "import pandas as pd\n",
    "import numpy as np\n",
    "from datetime import datetime\n",
    "from yahoofinancials import YahooFinancials as yf\n",
    "from datetime import date\n",
    "from dateutil.relativedelta import relativedelta"
   ]
  },
  {
   "cell_type": "markdown",
   "metadata": {},
   "source": [
    "## Step 1: Obtain and format data\n"
   ]
  },
  {
   "cell_type": "code",
   "execution_count": 2,
   "metadata": {},
   "outputs": [],
   "source": [
    "end=datetime.today().strftime('%Y-%m-%d')\n",
    "start = date.today() + relativedelta(days=-361)\n",
    "start = start.strftime('%Y-%m-%d')"
   ]
  },
  {
   "cell_type": "code",
   "execution_count": 3,
   "metadata": {
    "tags": []
   },
   "outputs": [
    {
     "output_type": "execute_result",
     "data": {
      "text/plain": "                  adjclose       close        high         low        open  \\\nformatted_date                                                               \n2020-09-14      419.619995  419.619995  420.000000  373.299988  380.950012   \n2020-09-15      449.760010  449.760010  461.940002  430.700012  436.559998   \n2020-09-16      441.760010  441.760010  457.790009  435.309998  439.869995   \n2020-09-17      423.429993  423.429993  437.790009  408.000000  415.600006   \n2020-09-18      442.149994  442.149994  451.000000  428.799988  447.940002   \n\n                  volume  \nformatted_date            \n2020-09-14      83020600  \n2020-09-15      97298200  \n2020-09-16      72279300  \n2020-09-17      76779200  \n2020-09-18      86406800  ",
      "text/html": "<div>\n<style scoped>\n    .dataframe tbody tr th:only-of-type {\n        vertical-align: middle;\n    }\n\n    .dataframe tbody tr th {\n        vertical-align: top;\n    }\n\n    .dataframe thead th {\n        text-align: right;\n    }\n</style>\n<table border=\"1\" class=\"dataframe\">\n  <thead>\n    <tr style=\"text-align: right;\">\n      <th></th>\n      <th>adjclose</th>\n      <th>close</th>\n      <th>high</th>\n      <th>low</th>\n      <th>open</th>\n      <th>volume</th>\n    </tr>\n    <tr>\n      <th>formatted_date</th>\n      <th></th>\n      <th></th>\n      <th></th>\n      <th></th>\n      <th></th>\n      <th></th>\n    </tr>\n  </thead>\n  <tbody>\n    <tr>\n      <th>2020-09-14</th>\n      <td>419.619995</td>\n      <td>419.619995</td>\n      <td>420.000000</td>\n      <td>373.299988</td>\n      <td>380.950012</td>\n      <td>83020600</td>\n    </tr>\n    <tr>\n      <th>2020-09-15</th>\n      <td>449.760010</td>\n      <td>449.760010</td>\n      <td>461.940002</td>\n      <td>430.700012</td>\n      <td>436.559998</td>\n      <td>97298200</td>\n    </tr>\n    <tr>\n      <th>2020-09-16</th>\n      <td>441.760010</td>\n      <td>441.760010</td>\n      <td>457.790009</td>\n      <td>435.309998</td>\n      <td>439.869995</td>\n      <td>72279300</td>\n    </tr>\n    <tr>\n      <th>2020-09-17</th>\n      <td>423.429993</td>\n      <td>423.429993</td>\n      <td>437.790009</td>\n      <td>408.000000</td>\n      <td>415.600006</td>\n      <td>76779200</td>\n    </tr>\n    <tr>\n      <th>2020-09-18</th>\n      <td>442.149994</td>\n      <td>442.149994</td>\n      <td>451.000000</td>\n      <td>428.799988</td>\n      <td>447.940002</td>\n      <td>86406800</td>\n    </tr>\n  </tbody>\n</table>\n</div>"
     },
     "metadata": {},
     "execution_count": 3
    }
   ],
   "source": [
    "ticker = 'TSLA'\n",
    "yahoo_financials = yf(ticker)\n",
    "data = yahoo_financials.get_historical_price_data(start_date=start, \n",
    "                                                  end_date=end, \n",
    "                                                  time_interval='daily')\n",
    "\n",
    "tsla_df = pd.DataFrame(data['TSLA']['prices'])\n",
    "tsla_df = tsla_df.drop('date', axis=1).set_index('formatted_date')\n",
    "\n",
    "tsla_df.head()"
   ]
  },
  {
   "cell_type": "markdown",
   "metadata": {},
   "source": [
    "## Step 2: log returns"
   ]
  },
  {
   "cell_type": "code",
   "execution_count": 2,
   "metadata": {},
   "outputs": [
    {
     "output_type": "error",
     "ename": "NameError",
     "evalue": "name 'np' is not defined",
     "traceback": [
      "\u001b[0;31m---------------------------------------------------------------------------\u001b[0m",
      "\u001b[0;31mNameError\u001b[0m                                 Traceback (most recent call last)",
      "\u001b[0;32m<ipython-input-2-3b44cdc9c9a4>\u001b[0m in \u001b[0;36m<module>\u001b[0;34m()\u001b[0m\n\u001b[0;32m----> 1\u001b[0;31m \u001b[0mtsla_df\u001b[0m\u001b[0;34m[\u001b[0m\u001b[0;34m'log return'\u001b[0m\u001b[0;34m]\u001b[0m \u001b[0;34m=\u001b[0m \u001b[0mnp\u001b[0m\u001b[0;34m.\u001b[0m\u001b[0mlog\u001b[0m\u001b[0;34m(\u001b[0m\u001b[0mtsla_df\u001b[0m\u001b[0;34m.\u001b[0m\u001b[0madjclose\u001b[0m\u001b[0;34m)\u001b[0m \u001b[0;34m-\u001b[0m \u001b[0mnp\u001b[0m\u001b[0;34m.\u001b[0m\u001b[0mlog\u001b[0m\u001b[0;34m(\u001b[0m\u001b[0mtsla_df\u001b[0m\u001b[0;34m.\u001b[0m\u001b[0madjclose\u001b[0m\u001b[0;34m.\u001b[0m\u001b[0mshift\u001b[0m\u001b[0;34m(\u001b[0m\u001b[0;36m1\u001b[0m\u001b[0;34m)\u001b[0m\u001b[0;34m)\u001b[0m\u001b[0;34m\u001b[0m\u001b[0;34m\u001b[0m\u001b[0m\n\u001b[0m",
      "\u001b[0;31mNameError\u001b[0m: name 'np' is not defined"
     ]
    }
   ],
   "source": [
    "tsla_df['log return'] = np.log(tsla_df.adjclose) - np.log(tsla_df.adjclose.shift(1))"
   ]
  },
  {
   "cell_type": "code",
   "execution_count": 1,
   "metadata": {},
   "outputs": [
    {
     "output_type": "error",
     "ename": "NameError",
     "evalue": "name 'tsla_df' is not defined",
     "traceback": [
      "\u001b[0;31m---------------------------------------------------------------------------\u001b[0m",
      "\u001b[0;31mNameError\u001b[0m                                 Traceback (most recent call last)",
      "\u001b[0;32m<ipython-input-1-d77915fbefc1>\u001b[0m in \u001b[0;36m<module>\u001b[0;34m()\u001b[0m\n\u001b[0;32m----> 1\u001b[0;31m \u001b[0mtsla_df\u001b[0m\u001b[0;34m\u001b[0m\u001b[0;34m\u001b[0m\u001b[0m\n\u001b[0m",
      "\u001b[0;31mNameError\u001b[0m: name 'tsla_df' is not defined"
     ]
    }
   ],
   "source": [
    "tsla_df"
   ]
  },
  {
   "cell_type": "code",
   "execution_count": null,
   "metadata": {},
   "outputs": [],
   "source": []
  }
 ]
}